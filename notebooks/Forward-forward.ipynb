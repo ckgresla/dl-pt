{
 "cells": [
  {
   "attachments": {},
   "cell_type": "markdown",
   "metadata": {},
   "source": [
    "# Forward-forward -- Backpropgation Alternative\n",
    "\n",
    "It is December of 2022, The Godfather of AI, Geoffrey Hinton, has dumped some more wisdom about wisdom into the Universe by way of the `Forward-forward` algorithm\n",
    "\n",
    "This algorithm for training Neural Networks performs (based on preliminary results) slighty worse than backprop but works via some very different properties that perhaps make it very attractive for specific applications\n",
    "\n",
    "\n",
    "## Links\n",
    "- Paper- https://www.cs.toronto.edu/~hinton/FFA13.pdf\n",
    "- Reference Repo- https://github.com/mohammadpz/pytorch_forward_forward\n",
    "\n"
   ]
  },
  {
   "cell_type": "code",
   "execution_count": null,
   "metadata": {},
   "outputs": [],
   "source": []
  },
  {
   "cell_type": "code",
   "execution_count": null,
   "metadata": {},
   "outputs": [],
   "source": []
  },
  {
   "cell_type": "code",
   "execution_count": null,
   "metadata": {},
   "outputs": [],
   "source": []
  }
 ],
 "metadata": {
  "kernelspec": {
   "display_name": "alxnda",
   "language": "python",
   "name": "python3"
  },
  "language_info": {
   "codemirror_mode": {
    "name": "ipython",
    "version": 3
   },
   "file_extension": ".py",
   "mimetype": "text/x-python",
   "name": "python",
   "nbconvert_exporter": "python",
   "pygments_lexer": "ipython3",
   "version": "3.8.13"
  },
  "orig_nbformat": 4,
  "vscode": {
   "interpreter": {
    "hash": "d37029d70cd8d93dde740d25c8f1b41e1e4c415c1cb9921175f33e85b568c859"
   }
  }
 },
 "nbformat": 4,
 "nbformat_minor": 2
}
