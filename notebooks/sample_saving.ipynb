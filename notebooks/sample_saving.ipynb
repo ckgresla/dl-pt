{
 "cells": [
  {
   "cell_type": "markdown",
   "metadata": {},
   "source": [
    "# Sample Code to Save Model Weights\n",
    "\n",
    "\n",
    "we COULD always binarize the whole model object in python, but that can break easily -- here we use the torch method of saving just the *weights* and reading them back in to a different model"
   ]
  },
  {
   "cell_type": "code",
   "execution_count": 4,
   "metadata": {},
   "outputs": [
    {
     "name": "stdout",
     "output_type": "stream",
     "text": [
      "BaseNet(\n",
      "  (flatten): Flatten(start_dim=1, end_dim=-1)\n",
      "  (linear_relu_stack): Sequential(\n",
      "    (0): Linear(in_features=3, out_features=10, bias=True)\n",
      "    (1): ReLU()\n",
      "    (2): Linear(in_features=10, out_features=3, bias=True)\n",
      "    (3): Hardswish()\n",
      "    (4): Linear(in_features=3, out_features=2, bias=True)\n",
      "  )\n",
      ")\n"
     ]
    }
   ],
   "source": [
    "# Imports + Sample Model Architecture\n",
    "import torch\n",
    "import torch.nn as nn\n",
    "\n",
    "\n",
    "# This Architecture NEEDS to be present to read in the model weights \n",
    "# how else will torch know where to put this Agent's Neurons?\n",
    "device = \"cuda\" if torch.cuda.is_available() else \"cpu\" #nice flag for setting device (will always work even if GPU availability is shifty, ehm ehm Google Colab)\n",
    "\n",
    "class BaseNet(nn.Module):\n",
    "    def __init__(self):\n",
    "        super(BaseNet, self).__init__()\n",
    "        self.flatten = nn.Flatten()\n",
    "        # Actual Architecture here is irrelevant, use a real one defined downstream\n",
    "        self.linear_relu_stack = nn.Sequential(\n",
    "            nn.Linear(3, 10),\n",
    "            nn.ReLU(),\n",
    "            nn.Linear(10, 3),\n",
    "            nn.Hardswish(),\n",
    "            nn.Linear(3, 2)\n",
    "        )\n",
    "\n",
    "    def forward(self, x):\n",
    "        x = self.flatten(x) \n",
    "        logits = self.linear_relu_stack(x)\n",
    "        return logits\n",
    "\n",
    "# `model` is the specific instance of this architecture we will call save on (we can load weights in to different var/instance of this same architecture)\n",
    "model = BaseNet().to(device) #Instantiate the model and send to our device (cpu or gpu if 'cuda')\n",
    "print(model)\n"
   ]
  },
  {
   "cell_type": "code",
   "execution_count": 5,
   "metadata": {},
   "outputs": [],
   "source": [
    "# Saving a Model\n",
    "\n",
    "save_path = \"../models/misc_save_model.pth\"\n",
    "torch.save(model.state_dict(), save_path) #only the weights get pickled!"
   ]
  },
  {
   "cell_type": "code",
   "execution_count": 25,
   "metadata": {},
   "outputs": [
    {
     "data": {
      "text/plain": [
       "<All keys matched successfully>"
      ]
     },
     "execution_count": 25,
     "metadata": {},
     "output_type": "execute_result"
    }
   ],
   "source": [
    "# Loading in a Saved Model\n",
    "\n",
    "save_path = \"../models/misc_save_model.pth\"\n",
    "saved_model = BaseNet() #make sure model architecture is same!\n",
    "model.load_state_dict(torch.load(save_path, map_location=device)) #load in trained weights & move to device if available"
   ]
  },
  {
   "cell_type": "code",
   "execution_count": 26,
   "metadata": {},
   "outputs": [
    {
     "name": "stdout",
     "output_type": "stream",
     "text": [
      "torch.Size([3])\n",
      "torch.Size([1, 3])\n"
     ]
    },
    {
     "data": {
      "text/plain": [
       "tensor([[-0.0559,  0.0858]], grad_fn=<AddmmBackward0>)"
      ]
     },
     "execution_count": 26,
     "metadata": {},
     "output_type": "execute_result"
    }
   ],
   "source": [
    "# Sample Forward Pass on Random Data\n",
    "test_vec = torch.rand(3)\n",
    "print(test_vec.shape)\n",
    "test_vec = torch.unsqueeze(test_vec, 0).to(device) #get matmul dim right & move to GPU\n",
    "print(test_vec.shape)\n",
    "\n",
    "model.forward(test_vec)"
   ]
  },
  {
   "cell_type": "code",
   "execution_count": null,
   "metadata": {},
   "outputs": [],
   "source": []
  }
 ],
 "metadata": {
  "kernelspec": {
   "display_name": "Python 3.8.13 ('pt')",
   "language": "python",
   "name": "python3"
  },
  "language_info": {
   "codemirror_mode": {
    "name": "ipython",
    "version": 3
   },
   "file_extension": ".py",
   "mimetype": "text/x-python",
   "name": "python",
   "nbconvert_exporter": "python",
   "pygments_lexer": "ipython3",
   "version": "3.8.13"
  },
  "orig_nbformat": 4,
  "vscode": {
   "interpreter": {
    "hash": "26343712b899080af65fbf5163bf31a389a3681fe88f5cd99452d52639027dcd"
   }
  }
 },
 "nbformat": 4,
 "nbformat_minor": 2
}
