{
 "cells": [
  {
   "cell_type": "markdown",
   "metadata": {},
   "source": [
    "# Projections Experiment\n",
    "\n",
    "Investigate the difference between different methods for Projecting High-Dimensional data into lower dim space for visualization (can the AutoEncoder) beat everything out?\n",
    "\n",
    "Will look at: \n",
    "- AutoEncoders- of different flavours, try out a linear version (to approximate PCA?) and then test out the affect of more neurons/layers & alternate activations (tanh, swish, sigmoidal, etc.)\n",
    "- PCA- tried and true changing of the basis of data (linear, orthogonal projection of data into a lower dimensional vector subspace)"
   ]
  },
  {
   "cell_type": "code",
   "execution_count": null,
   "metadata": {},
   "outputs": [],
   "source": [
    "\n",
    "import torch\n",
    "from torch import nn\n",
    "from torch.utils.data import DataLoader     #wraps the \"torch.utils.data.Dataset\" in a nice iterable\n",
    "from torchvision.datasets import MNIST\n",
    "from torchvision.transforms import ToTensor\n",
    "\n",
    "\n",
    "# Download and Use MNIST \n",
    "training_data = MNIST(\n",
    "    root=\"../data\", #where to download\n",
    "    train=True, #flag for train or test subset\n",
    "    download=False, #will download from scratch if True\n",
    "    transform=ToTensor(), #can specify a pipeline for transforming (also provides a `target_transform` for modifying labels)\n",
    ")\n",
    "\n",
    "test_data = MNIST(\n",
    "    root=\"../data\",\n",
    "    train=False,\n",
    "    download=False,\n",
    "    transform=ToTensor()\n",
    ")"
   ]
  },
  {
   "cell_type": "code",
   "execution_count": null,
   "metadata": {},
   "outputs": [],
   "source": []
  },
  {
   "cell_type": "code",
   "execution_count": null,
   "metadata": {},
   "outputs": [],
   "source": []
  },
  {
   "cell_type": "code",
   "execution_count": null,
   "metadata": {},
   "outputs": [],
   "source": []
  }
 ],
 "metadata": {
  "kernelspec": {
   "display_name": "Python 3.8.13 ('pt')",
   "language": "python",
   "name": "python3"
  },
  "language_info": {
   "name": "python",
   "version": "3.8.13"
  },
  "orig_nbformat": 4,
  "vscode": {
   "interpreter": {
    "hash": "7f6b5390250318df4899fe5f9594fbcf229947067621a1fef8f9b9f256113137"
   }
  }
 },
 "nbformat": 4,
 "nbformat_minor": 2
}
